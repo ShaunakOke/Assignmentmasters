{
 "cells": [
  {
   "cell_type": "code",
   "execution_count": 72,
   "metadata": {},
   "outputs": [
    {
     "name": "stdout",
     "output_type": "stream",
     "text": [
      "['miub_echo_g', 'tas', '1940', '1959', '15.675419360135598', '17.215865278666293', '20.977984133020705', '24.195261457323895', '26.877285037422002', '28.13663583941372', '27.43543560736811', '25.72631160769884', '23.942837065297773', '21.83753197594174', '18.983011971530033', '16.165157756977248']\n",
      "['miub_echo_g', 'tas', '1960', '1979', '15.448714534792039', '17.33866045116381', '20.740362386786845', '24.20532847716636', '27.084095372561194', '28.287485578415662', '27.535571613142164', '25.632420092556195', '24.108275286918865', '21.802328734271082', '18.923469475943804', '16.081855166276497']\n",
      "['miub_echo_g', 'tas', '1980', '1999', '15.388700772170223', '17.34719538055736', '21.070837510369742', '24.58652327546117', '27.085470013915884', '28.433688543532305', '27.452937033326183', '25.798327960798233', '23.940118030111265', '21.79827475758601', '18.815574713514174', '15.842873767411774']\n",
      "['miub_echo_g', 'tas', '2020', '2039', '16.25982031357858', '18.314027229242736', '21.903836140589288', '25.61358750604814', '27.805993274250543', '29.214697103583937', '28.276836564055497', '26.118120041566634', '24.69597470443717', '22.48784374136114', '19.98172294143588', '17.053656654016223']\n",
      "['miub_echo_g', 'tas', '2040', '2059', '16.440637369070632', '18.774768660552922', '22.437705250966', '25.892375304637454', '28.63048722258336', '30.058470599423256', '28.978865901983195', '26.691115657838225', '25.179393667033978', '23.085722796686937', '20.282385091866107', '17.63322408220625']\n",
      "['miub_echo_g', 'tas', '2060', '2079', '18.26654808922181', '20.232809691306446', '23.769431865322055', '27.239706123831812', '29.901598094834142', '30.784903737292485', '29.364511945608655', '27.57637145455807', '26.245807208845576', '24.154465396845104', '21.34478543711521', '18.80693553822809']\n",
      "['miub_echo_g', 'tas', '2080', '2099', '19.113444910639945', '21.050712112832148', '24.674275356055276', '28.417464264724885', '30.861324614127103', '32.02168611509053', '30.070061607702204', '28.263471485235037', '27.03688629960841', '24.987354649909967', '22.435376462688215', '19.93663470512845']\n"
     ]
    }
   ],
   "source": [
    "import csv\n",
    "from urllib.request import urlopen\n",
    "import numpy\n",
    "l2=[]\n",
    "l3=[]\n",
    "def loadfn(country,climtype):\n",
    "    #header=[\"GCM\",climtype,\"from year\",\"to_year\",\"Jan\",\"Feb\",\"Mar\",\"Apr\",\"May\",\"Jun\",\"Jul\",\"Aug\",\"Sept\",\"Oct\",\"Nov\",\"Dec\",\"country\"]\n",
    "    start_year=1920\n",
    "    link=\"http://climatedataapi.worldbank.org/climateweb/rest/v1/country/mavg/miub_echo_g/\"+climtype+\"/1920/1939/\"+country+\".csv\"\n",
    "    with open(r\"C:\\\\Users\\\\Admin\\\\\"+country+\".csv\",\"w\",newline='') as write_file:\n",
    "        #as in get_and_write_data function\n",
    "            f = csv.writer(write_file)\n",
    "            #f.writerow(i for i in header)\n",
    "    write_file.close()\n",
    "    response = urlopen(link)\n",
    "    html = response.read().decode()\n",
    "    with open(\"C:\\\\Users\\\\Admin\\\\\"+country+\".csv\", \"a\",newline='') as write_file:\n",
    "        #open the file / create it, newline ='' to prevent blank lines being written\n",
    "        f = csv.writer(write_file)\n",
    "        lines = html.strip().split(\"\\n\")\n",
    "        for l in lines:\n",
    "            if (l[0] ==\"#\"):\n",
    "                continue;\n",
    "            elif l[0:10] in [\"Not Availa\", \"There is n\"]:\n",
    "                continue\n",
    "            else: #if doesn't have those it is data and so should be written\n",
    "                l = l.split(\",\")\n",
    "                #l.append(country)#it comes in as a String, so convert to a list for later easier writing and manipulation\n",
    "                f.writerow(l)\n",
    "           \t#print (\"Line Written\")\n",
    "        while(start_year!=2080):\n",
    "            start_year=start_year+20\n",
    "            link=\"http://climatedataapi.worldbank.org/climateweb/rest/v1/country/mavg/miub_echo_g/\"+climtype+\"/\"+str(start_year)+\"/\"+str(start_year+19)+\"/\"+country+\".csv\"\n",
    "            response = urlopen(link)\n",
    "            html = response.read().decode()\n",
    "            lines = html.strip().split(\"\\n\")\n",
    "            for l in lines[1:]:\n",
    "                    if l[0] ==\"#\":\n",
    "                        continue\n",
    "                    elif l[0:10] in [\"Not Availa\", \"There is n\"]: #prevent it from writing lines  where no data is present (i.e. returns saying - \"Not Available\" or \"There is no weather data available for the date provided. Past data is available from 1 July, 2008 onwards only.\")\n",
    "                        continue\n",
    "                    elif l[15:17] in [\"b1\"]:\n",
    "                        continue;\n",
    "                    elif l[16:18] in [\"b1\"]:\n",
    "                        continue;\n",
    "                    else:\n",
    "                        if ((l[15:17] in [\"a2\"]) or (l[16:18] in [\"a2\"])):\n",
    "                            l=l.replace(\"a2,\",'')\n",
    "                        l = l.split(\",\")\n",
    "                        print(l)\n",
    "                        list1.append(l)\n",
    "                        #l.append(country)\n",
    "                        #it comes in as a String, so convert to a list for later easier writing and manipulation\n",
    "                        if(int(l[2])<1980 or int(l[2])>2020):\n",
    "                            f.writerow(l)\n",
    "                        elif(int(l[2])==1980):\n",
    "                            l2=l\n",
    "                            f.writerow(l)\n",
    "                        elif(int(l[2])==2020):\n",
    "                            l3=[l[0],l[1],\"2000\",\"2020\"]\n",
    "                            l3+=[str((float(x)+float(y))/2) for x,y in zip(l2[4:],l[4:])]\n",
    "                            f.writerow(l3)\n",
    "                            f.writerow(l)\n",
    "                            \n",
    "    write_file.close()\n",
    "    \n",
    "loadfn(\"IND\",\"tas\")\n",
    "#with open(\"C:\\\\Users\\\\Admin\\\\\"+country+\".csv\", \"r\",newline='') as read_file:\n",
    "    \n",
    "\n",
    "\n",
    "\n"
   ]
  },
  {
   "cell_type": "code",
   "execution_count": null,
   "metadata": {},
   "outputs": [],
   "source": []
  },
  {
   "cell_type": "code",
   "execution_count": null,
   "metadata": {},
   "outputs": [],
   "source": [
    "\n"
   ]
  },
  {
   "cell_type": "code",
   "execution_count": null,
   "metadata": {},
   "outputs": [],
   "source": []
  }
 ],
 "metadata": {
  "kernelspec": {
   "display_name": "Python 3",
   "language": "python",
   "name": "python3"
  },
  "language_info": {
   "codemirror_mode": {
    "name": "ipython",
    "version": 3
   },
   "file_extension": ".py",
   "mimetype": "text/x-python",
   "name": "python",
   "nbconvert_exporter": "python",
   "pygments_lexer": "ipython3",
   "version": "3.6.5"
  }
 },
 "nbformat": 4,
 "nbformat_minor": 2
}
