{
 "cells": [
  {
   "cell_type": "code",
   "execution_count": 73,
   "metadata": {
    "scrolled": false
   },
   "outputs": [
    {
     "name": "stdout",
     "output_type": "stream",
     "text": [
      "Alr exist\n"
     ]
    },
    {
     "ename": "AttributeError",
     "evalue": "module 'matplotlib.pyplot' has no attribute 'yaxis'",
     "output_type": "error",
     "traceback": [
      "\u001b[1;31m---------------------------------------------------------------------------\u001b[0m",
      "\u001b[1;31mAttributeError\u001b[0m                            Traceback (most recent call last)",
      "\u001b[1;32m<ipython-input-73-aeac1cb92849>\u001b[0m in \u001b[0;36m<module>\u001b[1;34m()\u001b[0m\n\u001b[0;32m     81\u001b[0m \u001b[0mTempcountry1\u001b[0m\u001b[1;33m.\u001b[0m\u001b[0mloc\u001b[0m\u001b[1;33m[\u001b[0m\u001b[1;33m:\u001b[0m\u001b[1;33m,\u001b[0m\u001b[1;34m\"Jan\"\u001b[0m\u001b[1;33m:\u001b[0m\u001b[1;33m:\u001b[0m\u001b[1;36m1\u001b[0m\u001b[1;33m]\u001b[0m\u001b[1;33m.\u001b[0m\u001b[0mmean\u001b[0m\u001b[1;33m(\u001b[0m\u001b[0maxis\u001b[0m\u001b[1;33m=\u001b[0m\u001b[1;36m1\u001b[0m\u001b[1;33m)\u001b[0m\u001b[1;33m.\u001b[0m\u001b[0mplot\u001b[0m\u001b[1;33m(\u001b[0m\u001b[1;33m)\u001b[0m\u001b[1;33m\u001b[0m\u001b[0m\n\u001b[0;32m     82\u001b[0m \u001b[0mplt\u001b[0m\u001b[1;33m.\u001b[0m\u001b[0mylim\u001b[0m\u001b[1;33m(\u001b[0m\u001b[1;36m10\u001b[0m\u001b[1;33m,\u001b[0m\u001b[1;36m290\u001b[0m\u001b[1;33m)\u001b[0m\u001b[1;33m\u001b[0m\u001b[0m\n\u001b[1;32m---> 83\u001b[1;33m \u001b[0mplt\u001b[0m\u001b[1;33m.\u001b[0m\u001b[0myaxis\u001b[0m\u001b[1;33m.\u001b[0m\u001b[0mset_major_locator\u001b[0m\u001b[1;33m(\u001b[0m\u001b[0mMaxNLocator\u001b[0m\u001b[1;33m(\u001b[0m\u001b[1;36m7\u001b[0m\u001b[1;33m)\u001b[0m\u001b[1;33m)\u001b[0m\u001b[1;33m\u001b[0m\u001b[0m\n\u001b[0m\u001b[0;32m     84\u001b[0m \u001b[0mplt\u001b[0m\u001b[1;33m.\u001b[0m\u001b[0myscale\u001b[0m\u001b[1;33m(\u001b[0m\u001b[1;34m\"log\"\u001b[0m\u001b[1;33m)\u001b[0m\u001b[1;33m\u001b[0m\u001b[0m\n\u001b[0;32m     85\u001b[0m \u001b[0mplt\u001b[0m\u001b[1;33m.\u001b[0m\u001b[0mtitle\u001b[0m\u001b[1;33m(\u001b[0m\u001b[1;34m\"\\n\"\u001b[0m\u001b[1;33m)\u001b[0m\u001b[1;33m\u001b[0m\u001b[0m\n",
      "\u001b[1;31mAttributeError\u001b[0m: module 'matplotlib.pyplot' has no attribute 'yaxis'"
     ]
    },
    {
     "data": {
      "image/png": "[encoded data removed]",
      "text/plain": [
       "<Figure size 720x720 with 1 Axes>"
      ]
     },
     "metadata": {},
     "output_type": "display_data"
    }
   ],
   "source": [
    "import csv\n",
    "import os\n",
    "import pandas as pd\n",
    "from urllib.request import urlopen\n",
    "import numpy as np\n",
    "import matplotlib\n",
    "import matplotlib.pyplot as plt\n",
    "l2=[]\n",
    "l3=[]\n",
    "def loadfn(country,climtype):\n",
    "    #header=[\"GCM\",climtype,\"from year\",\"to_year\",\"Jan\",\"Feb\",\"Mar\",\"Apr\",\"May\",\"Jun\",\"Jul\",\"Aug\",\"Sept\",\"Oct\",\"Nov\",\"Dec\",\"country\"]\n",
    "    start_year=1920\n",
    "    link=\"http://climatedataapi.worldbank.org/climateweb/rest/v1/country/mavg/miub_echo_g/\"+climtype+\"/1920/1939/\"+country+\".csv\"\n",
    "    with open(r\"C:\\\\Users\\\\Admin\\\\\"+country+climtype+\".csv\",\"w\",newline='') as write_file:\n",
    "        #as in get_and_write_data function\n",
    "            f = csv.writer(write_file)\n",
    "            #f.writerow(i for i in header)\n",
    "    write_file.close()\n",
    "    response = urlopen(link)\n",
    "    html = response.read().decode()\n",
    "    with open(\"C:\\\\Users\\\\Admin\\\\\"+country+climtype+\".csv\", \"a\",newline='') as write_file:\n",
    "        #open the file / create it, newline ='' to prevent blank lines being written\n",
    "        f = csv.writer(write_file)\n",
    "        lines = html.strip().split(\"\\n\")\n",
    "        for l in lines:\n",
    "            if (l[0] ==\"#\"):\n",
    "                continue;\n",
    "            elif l[0:10] in [\"Not Availa\", \"There is n\"]:\n",
    "                continue\n",
    "            else: #if doesn't have those it is data and so should be written\n",
    "                l = l.split(\",\")\n",
    "                #l.append(country)#it comes in as a String, so convert to a list for later easier writing and manipulation\n",
    "                f.writerow(l)\n",
    "           \t#print (\"Line Written\")\n",
    "        while(start_year!=2080):\n",
    "            start_year=start_year+20\n",
    "            link=\"http://climatedataapi.worldbank.org/climateweb/rest/v1/country/mavg/miub_echo_g/\"+climtype+\"/\"+str(start_year)+\"/\"+str(start_year+19)+\"/\"+country+\".csv\"\n",
    "            response = urlopen(link)\n",
    "            html = response.read().decode()\n",
    "            lines = html.strip().split(\"\\n\")\n",
    "            for l in lines[1:]:\n",
    "                    if l[0] ==\"#\":\n",
    "                        continue\n",
    "                    elif l[0:10] in [\"Not Availa\", \"There is n\"]: #prevent it from writing lines  where no data is present (i.e. returns saying - \"Not Available\" or \"There is no weather data available for the date provided. Past data is available from 1 July, 2008 onwards only.\")\n",
    "                        continue\n",
    "                    elif l[15:17] in [\"b1\"]:\n",
    "                        continue;\n",
    "                    elif l[16:18] in [\"b1\"]:\n",
    "                        continue;\n",
    "                    else:\n",
    "                        if ((l[15:17] in [\"a2\"]) or (l[16:18] in [\"a2\"])):\n",
    "                            l=l.replace(\"a2,\",'')\n",
    "                        l = l.split(\",\")\n",
    "                        #l.append(country)\n",
    "                        #it comes in as a String, so convert to a list for later easier writing and manipulation\n",
    "                        if(int(l[2])<1980 or int(l[2])>2020):\n",
    "                            f.writerow(l)\n",
    "                        elif(int(l[2])==1980):\n",
    "                            l2=l\n",
    "                            f.writerow(l)\n",
    "                        elif(int(l[2])==2020):\n",
    "                            l3=[l[0],l[1],\"2000\",\"2020\"]\n",
    "                            l3+=[str((float(x)+float(y))/2) for x,y in zip(l2[4:],l[4:])]\n",
    "                            f.writerow(l3)\n",
    "                            f.writerow(l)\n",
    "                            \n",
    "    write_file.close()\n",
    "#flag=input('enter no. of countries to compare 1-4')\n",
    "country=\"SLB\"\n",
    "typec=\"pr\" #input('enter country code')\n",
    "if(os.path.isfile('C:\\\\Users\\\\Admin\\\\'+country+typec+'.csv')):\n",
    "    print(\"Alr exist\")\n",
    "else:\n",
    "    loadfn(country,typec)\n",
    "    \n",
    "#with open(\"C:\\\\Users\\\\Admin\\\\\"+country+\".csv\", \"r\",newline='') as read_file:\n",
    "matplotlib.rcParams['figure.figsize'] = [10,10]\n",
    "Tempcountry1=pd.read_csv('C:\\\\Users\\\\Admin\\\\'+country+typec+'.csv',index_col=\"from_year\")\n",
    "\n",
    "plt.figure()\n",
    "Tempcountry1.loc[:,\"Jan\"::1].mean(axis=1).plot()\n",
    "plt.ylim(10,290)\n",
    "plt.yaxis.set_major_locator(MaxNLocator(7))\n",
    "plt.yscale(\"log\")\n",
    "plt.title(\"\\n\")\n",
    "if(typec==\"pr\"):\n",
    "    plt.ylabel(\"Precipitation(mm)\")\n",
    "else:\n",
    "    plt.ylabel(\"Temperature C\")\n",
    "plt.xlabel(\"Year\")\n",
    "plt.xticks([1920,1940,1960,1980,2000,2020,2040,2060,2080])\n",
    "plt.show();\n",
    "\n"
   ]
  },
  {
   "cell_type": "code",
   "execution_count": 69,
   "metadata": {},
   "outputs": [
    {
     "name": "stdout",
     "output_type": "stream",
     "text": [
      "from_year\n",
      "1920    247.308893\n",
      "1940    252.530110\n",
      "1960    261.302665\n",
      "1980    264.209070\n",
      "2000    257.707289\n",
      "2020    251.205508\n",
      "2040    263.148432\n",
      "2060    248.882597\n",
      "2080    266.417482\n",
      "dtype: float64\n"
     ]
    }
   ],
   "source": [
    "print(Tempcountry1.loc[:,\"Jan\"::1].mean(axis=1))"
   ]
  },
  {
   "cell_type": "code",
   "execution_count": null,
   "metadata": {},
   "outputs": [],
   "source": []
  },
  {
   "cell_type": "code",
   "execution_count": null,
   "metadata": {},
   "outputs": [],
   "source": []
  }
 ],
 "metadata": {
  "kernelspec": {
   "display_name": "Python 3",
   "language": "python",
   "name": "python3"
  },
  "language_info": {
   "codemirror_mode": {
    "name": "ipython",
    "version": 3
   },
   "file_extension": ".py",
   "mimetype": "text/x-python",
   "name": "python",
   "nbconvert_exporter": "python",
   "pygments_lexer": "ipython3",
   "version": "3.6.5"
  }
 },
 "nbformat": 4,
 "nbformat_minor": 2
}
